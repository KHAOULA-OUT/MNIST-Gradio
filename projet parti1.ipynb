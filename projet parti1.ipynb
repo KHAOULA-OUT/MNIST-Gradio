{
 "cells": [
  {
   "cell_type": "markdown",
   "id": "5f16f725",
   "metadata": {},
   "source": [
    "# Model"
   ]
  },
  {
   "cell_type": "code",
   "execution_count": null,
   "id": "5febce41",
   "metadata": {},
   "outputs": [],
   "source": [
    "# save the final model to file\n",
    "from tensorflow.keras.datasets import mnist\n",
    "from tensorflow.keras.utils import to_categorical\n",
    "from tensorflow.keras.models import Sequential\n",
    "from tensorflow.keras.layers import Conv2D\n",
    "from tensorflow.keras.layers import MaxPooling2D\n",
    "from tensorflow.keras.layers import Dense\n",
    "from tensorflow.keras.layers import Flatten\n",
    "from tensorflow.keras.optimizers import SGD\n",
    "\n",
    "# load train and test dataset\n",
    "def load_dataset():\n",
    "\t# load dataset\n",
    "\t(trainX, trainY), (testX, testY) = mnist.load_data()\n",
    "\t# reshape dataset to have a single channel\n",
    "\ttrainX = trainX.reshape((trainX.shape[0], 28, 28, 1))\n",
    "\ttestX = testX.reshape((testX.shape[0], 28, 28, 1))\n",
    "\t# one hot encode target values\n",
    "\ttrainY = to_categorical(trainY)\n",
    "\ttestY = to_categorical(testY)\n",
    "\treturn trainX, trainY, testX, testY\n",
    "\n",
    "# scale pixels\n",
    "def prep_pixels(train, test):\n",
    "\t# convert from integers to floats\n",
    "\ttrain_norm = train.astype('float32')\n",
    "\ttest_norm = test.astype('float32')\n",
    "\t# normalize to range 0-1\n",
    "\ttrain_norm = train_norm / 255.0\n",
    "\ttest_norm = test_norm / 255.0\n",
    "\t# return normalized images\n",
    "\treturn train_norm, test_norm\n",
    "\n",
    "# define cnn model\n",
    "def define_model():\n",
    "\tmodel = Sequential()\n",
    "\tmodel.add(Conv2D(32, (3, 3), activation='relu', kernel_initializer='he_uniform', input_shape=(28, 28, 1)))\n",
    "\tmodel.add(MaxPooling2D((2, 2)))\n",
    "\tmodel.add(Conv2D(64, (3, 3), activation='relu', kernel_initializer='he_uniform'))\n",
    "\tmodel.add(Conv2D(64, (3, 3), activation='relu', kernel_initializer='he_uniform'))\n",
    "\tmodel.add(MaxPooling2D((2, 2)))\n",
    "\tmodel.add(Flatten())\n",
    "\tmodel.add(Dense(100, activation='relu', kernel_initializer='he_uniform'))\n",
    "\tmodel.add(Dense(10, activation='softmax'))\n",
    "\t# compile model\n",
    "\topt = SGD(learning_rate=0.01, momentum=0.9)\n",
    "\tmodel.compile(optimizer=opt, loss='categorical_crossentropy', metrics=['accuracy'])\n",
    "\treturn model\n",
    "\n",
    "# run the test harness for evaluating a model\n",
    "def run_test_harness():\n",
    "\t# load dataset\n",
    "\ttrainX, trainY, testX, testY = load_dataset()\n",
    "\t# prepare pixel data\n",
    "\ttrainX, testX = prep_pixels(trainX, testX)\n",
    "\t# define model\n",
    "\tmodel = define_model()\n",
    "\t# fit model\n",
    "\tmodel.fit(trainX, trainY, epochs=10, batch_size=32, verbose=0)\n",
    "\t# save model\n",
    "\tmodel.save('final_model.h5')\n",
    "  # evaluate model on test dataset\n",
    "  \n",
    " \n",
    "#entry point, run the test harness\n",
    "#run_test_harness()"
   ]
  },
  {
   "cell_type": "markdown",
   "id": "64746635",
   "metadata": {},
   "source": [
    "# interface"
   ]
  },
  {
   "cell_type": "code",
   "execution_count": 1,
   "id": "6a6b9491",
   "metadata": {},
   "outputs": [
    {
     "name": "stderr",
     "output_type": "stream",
     "text": [
      "Exception in Tkinter callback\n",
      "Traceback (most recent call last):\n",
      "  File \"D:\\programms\\an\\lib\\tkinter\\__init__.py\", line 1892, in __call__\n",
      "    return self.func(*args)\n",
      "  File \"C:\\Users\\asus\\AppData\\Local\\Temp\\ipykernel_17656\\4212354685.py\", line 38, in getResult\n",
      "    self.res = str(predict(\"dist.png\"))\n",
      "NameError: name 'predict' is not defined\n"
     ]
    }
   ],
   "source": [
    "import os\n",
    "from tkinter import *\n",
    "import PIL\n",
    "from PIL import ImageGrab\n",
    "\n",
    "\n",
    "\n",
    "class main:\n",
    "    def __init__(self, master):\n",
    "        self.master = master\n",
    "        self.res = \"\"\n",
    "        self.pre = [None, None]\n",
    "        self.bs = 8.5\n",
    "        self.c = Canvas(self.master,bd=3,relief=\"ridge\", width=300, height=282, bg='white')\n",
    "        self.c.pack(side=LEFT)\n",
    "        f1 = Frame(self.master, padx=5, pady=5)\n",
    "        Label(f1,text=\"CNN with khaoula\",fg=\"green\",font=(\"\",15,\"bold\")).pack(pady=10)\n",
    "        Label(f1,text=\"MNSIT Dataset\",fg=\"green\",font=(\"\",15)).pack()\n",
    "        \n",
    "        self.pr = Label(f1,text=\"Prediction: None\",fg=\"blue\",font=(\"\",20,\"bold\"))\n",
    "        self.pr.pack(pady=20)\n",
    "        \n",
    "        Button(f1,font=(\"\",15),fg=\"white\",bg=\"red\", text=\"Clear \", command=self.clear).pack(side=BOTTOM)\n",
    "\n",
    "        f1.pack(side=RIGHT,fill=Y)\n",
    "        self.c.bind(\"<Button-1>\", self.putPoint)\n",
    "        self.c.bind(\"<ButtonRelease-1>\",self.getResult)\n",
    "        self.c.bind(\"<B1-Motion>\", self.paint)\n",
    "\n",
    "    def getResult(self,e):\n",
    "        x = self.master.winfo_rootx() + self.c.winfo_x()\n",
    "        y = self.master.winfo_rooty() + self.c.winfo_y()\n",
    "        x1 = x + self.c.winfo_width()\n",
    "        y1 = y + self.c.winfo_height()\n",
    "        img = PIL.ImageGrab.grab()\n",
    "        img = img.crop((x, y, x1, y1))\n",
    "        img.save(\"dist.png\")\n",
    "        self.res = str(predict(\"dist.png\"))\n",
    "        self.pr['text'] = \"Prediction: \" + self.res\n",
    "\n",
    "    def clear(self):\n",
    "        self.c.delete('all')\n",
    "\n",
    "    def putPoint(self, e):\n",
    "        self.c.create_oval(e.x - self.bs, e.y - self.bs, e.x + self.bs, e.y + self.bs, outline='black', fill='black')\n",
    "        self.pre = [e.x, e.y]\n",
    "\n",
    "    def paint(self, e):\n",
    "        self.c.create_line(self.pre[0], self.pre[1], e.x, e.y, width=self.bs * 2, fill='black', capstyle=ROUND,\n",
    "                           smooth=TRUE)\n",
    "\n",
    "        self.pre = [e.x, e.y]\n",
    "\n",
    "\n",
    "if __name__ == \"__main__\":\n",
    "    root = Tk()\n",
    "    main(root)\n",
    "    root.title('Digit')\n",
    "    root.resizable(0, 0)\n",
    "    root.mainloop()\n"
   ]
  },
  {
   "cell_type": "code",
   "execution_count": 1,
   "id": "5ae2ca70",
   "metadata": {},
   "outputs": [],
   "source": [
    "import keras\n",
    "from keras.models import load_model\n",
    "from scipy import misc, spatial\n",
    "from PIL import Image\n",
    "import numpy as np\n",
    "from keras_preprocessing.image import load_img\n",
    "from keras_preprocessing.image import img_to_array\n",
    "\n",
    "model = load_model(\"final_model.h5\")\n",
    "                \n",
    "def predict(InputImg):\n",
    "    image = load_img(InputImg, grayscale=True, target_size=(28, 28))\n",
    "    image = np.invert(image)\n",
    "    image = img_to_array(image)\n",
    "    image = image.reshape(1,28,28,1)\n",
    "\n",
    "    return model.predict(image)[0].tolist().index(1)"
   ]
  },
  {
   "cell_type": "code",
   "execution_count": null,
   "id": "f3981bfb",
   "metadata": {},
   "outputs": [],
   "source": [
    "\n"
   ]
  },
  {
   "cell_type": "code",
   "execution_count": 4,
   "id": "0b228fd7",
   "metadata": {},
   "outputs": [
    {
     "name": "stdout",
     "output_type": "stream",
     "text": [
      "Running on local URL:  http://127.0.0.1:7860\n",
      "\n",
      "To create a public link, set `share=True` in `launch()`.\n"
     ]
    },
    {
     "data": {
      "text/html": [
       "<div><iframe src=\"http://127.0.0.1:7860/\" width=\"100%\" height=\"500\" allow=\"autoplay; camera; microphone; clipboard-read; clipboard-write;\" frameborder=\"0\" allowfullscreen></iframe></div>"
      ],
      "text/plain": [
       "<IPython.core.display.HTML object>"
      ]
     },
     "metadata": {},
     "output_type": "display_data"
    },
    {
     "name": "stdout",
     "output_type": "stream",
     "text": [
      "1/1 [==============================] - 0s 192ms/step\n",
      "1/1 [==============================] - 0s 32ms/step\n",
      "1/1 [==============================] - 0s 31ms/step\n",
      "1/1 [==============================] - 0s 30ms/step\n",
      "1/1 [==============================] - 0s 37ms/step\n",
      "1/1 [==============================] - 0s 31ms/step\n",
      "1/1 [==============================] - 0s 30ms/step\n",
      "1/1 [==============================] - 0s 31ms/step\n",
      "1/1 [==============================] - 0s 32ms/step\n",
      "1/1 [==============================] - 0s 32ms/step\n",
      "1/1 [==============================] - 0s 33ms/step\n",
      "1/1 [==============================] - 0s 29ms/step\n",
      "Keyboard interruption in main thread... closing server.\n"
     ]
    },
    {
     "data": {
      "text/plain": []
     },
     "execution_count": 4,
     "metadata": {},
     "output_type": "execute_result"
    }
   ],
   "source": [
    "import gradio as gr\n",
    "import keras\n",
    "from keras.models import load_model\n",
    "from scipy import misc, spatial\n",
    "from PIL import Image\n",
    "import numpy as np\n",
    "from keras_preprocessing.image import load_img\n",
    "from keras_preprocessing.image import img_to_array\n",
    "model = load_model(\"final_modell.h5\")\n",
    "def predict_image(img):\n",
    "    \n",
    "                \n",
    "    img_3d=img.reshape(-1,28,28)\n",
    "    im_resize=img_3d/255.0\n",
    "    prediction=model.predict(im_resize)\n",
    "    pred=np.argmax(prediction)\n",
    "    return pred\n",
    "\n",
    "iface = gr.Interface(predict_image, inputs=\"sketchpad\", outputs=\"label\")\n",
    "iface.launch(debug='True')"
   ]
  },
  {
   "cell_type": "code",
   "execution_count": null,
   "id": "7543c50d",
   "metadata": {},
   "outputs": [],
   "source": []
  },
  {
   "cell_type": "code",
   "execution_count": null,
   "id": "aa572dce",
   "metadata": {},
   "outputs": [],
   "source": []
  }
 ],
 "metadata": {
  "kernelspec": {
   "display_name": "Python 3 (ipykernel)",
   "language": "python",
   "name": "python3"
  },
  "language_info": {
   "codemirror_mode": {
    "name": "ipython",
    "version": 3
   },
   "file_extension": ".py",
   "mimetype": "text/x-python",
   "name": "python",
   "nbconvert_exporter": "python",
   "pygments_lexer": "ipython3",
   "version": "3.9.12"
  }
 },
 "nbformat": 4,
 "nbformat_minor": 5
}
